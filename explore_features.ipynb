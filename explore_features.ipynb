{
 "cells": [
  {
   "cell_type": "code",
   "execution_count": 38,
   "metadata": {},
   "outputs": [
    {
     "output_type": "execute_result",
     "data": {
      "text/plain": [
       "['CMU_MOSEI_VisualOpenFace2.csd',\n",
       " 'CMU_MOSEI_COVAREP.csd',\n",
       " 'CMU_MOSEI_TimestampedWordVectors.csd',\n",
       " 'CMU_MOSEI_VisualFacet42.csd']"
      ]
     },
     "metadata": {},
     "execution_count": 38
    }
   ],
   "source": [
    "from tqdm import tqdm\n",
    "import pandas as pd\n",
    "import h5py\n",
    "import os\n",
    "\n",
    "PATH = \"cmumosei_highlevel\"\n",
    "\n",
    "files = os.listdir(PATH)\n",
    "files"
   ]
  },
  {
   "cell_type": "code",
   "execution_count": 39,
   "metadata": {},
   "outputs": [],
   "source": [
    "files = { path[10:].split(\".\")[0] : h5py.File(os.path.join(PATH, path), 'r') for path in files if path.split(\".\")[-1] == \"csd\" }"
   ]
  },
  {
   "cell_type": "code",
   "execution_count": 40,
   "metadata": {},
   "outputs": [
    {
     "output_type": "execute_result",
     "data": {
      "text/plain": [
       "{'VisualOpenFace2': <HDF5 file \"CMU_MOSEI_VisualOpenFace2.csd\" (mode r)>,\n",
       " 'COVAREP': <HDF5 file \"CMU_MOSEI_COVAREP.csd\" (mode r)>,\n",
       " 'TimestampedWordVectors': <HDF5 file \"CMU_MOSEI_TimestampedWordVectors.csd\" (mode r)>,\n",
       " 'VisualFacet42': <HDF5 file \"CMU_MOSEI_VisualFacet42.csd\" (mode r)>}"
      ]
     },
     "metadata": {},
     "execution_count": 40
    }
   ],
   "source": [
    "files"
   ]
  },
  {
   "cell_type": "code",
   "execution_count": 41,
   "metadata": {},
   "outputs": [
    {
     "output_type": "execute_result",
     "data": {
      "text/plain": [
       "<KeysViewHDF5 ['features', 'intervals']>"
      ]
     },
     "metadata": {},
     "execution_count": 41
    }
   ],
   "source": [
    "files[\"COVAREP\"][\"COVAREP\"][\"data\"]['XFGHTk_3hGg'].keys()"
   ]
  },
  {
   "cell_type": "code",
   "execution_count": 67,
   "metadata": {
    "tags": []
   },
   "outputs": [
    {
     "output_type": "stream",
     "name": "stdout",
     "text": [
      "========================================================================================================================================================================================================\nOpenFace_2\n========================================================================================================================================================================================================\n[b'[\"face_id\", \"timestamp\", \"confidence\", \"success\", \"gaze_0_x\", \"gaze_0_y\", \"gaze_0_z\", \"gaze_1_x\", \"gaze_1_y\", \"gaze_1_z\", \"gaze_angle_x\", \"gaze_angle_y\", \"eye_lmk_x_0\", \"eye_lmk_x_1\", \"eye_lmk_x_2\", \"eye_lmk_x_3\", \"eye_lmk_x_4\", \"eye_lmk_x_5\", \"eye_lmk_x_6\", \"eye_lmk_x_7\", \"eye_lmk_x_8\", \"eye_lmk_x_9\", \"eye_lmk_x_10\", \"eye_lmk_x_11\", \"eye_lmk_x_12\", \"eye_lmk_x_13\", \"eye_lmk_x_14\", \"eye_lmk_x_15\", \"eye_lmk_x_16\", \"eye_lmk_x_17\", \"eye_lmk_x_18\", \"eye_lmk_x_19\", \"eye_lmk_x_20\", \"eye_lmk_x_21\", \"eye_lmk_x_22\", \"eye_lmk_x_23\", \"eye_lmk_x_24\", \"eye_lmk_x_25\", \"eye_lmk_x_26\", \"eye_lmk_x_27\", \"eye_lmk_x_28\", \"eye_lmk_x_29\", \"eye_lmk_x_30\", \"eye_lmk_x_31\", \"eye_lmk_x_32\", \"eye_lmk_x_33\", \"eye_lmk_x_34\", \"eye_lmk_x_35\", \"eye_lmk_x_36\", \"eye_lmk_x_37\", \"eye_lmk_x_38\", \"eye_lmk_x_39\", \"eye_lmk_x_40\", \"eye_lmk_x_41\", \"eye_lmk_x_42\", \"eye_lmk_x_43\", \"eye_lmk_x_44\", \"eye_lmk_x_45\", \"eye_lmk_x_46\", \"eye_lmk_x_47\", \"eye_lmk_x_48\", \"eye_lmk_x_49\", \"eye_lmk_x_50\", \"eye_lmk_x_51\", \"eye_lmk_x_52\", \"eye_lmk_x_53\", \"eye_lmk_x_54\", \"eye_lmk_x_55\", \"eye_lmk_y_0\", \"eye_lmk_y_1\", \"eye_lmk_y_2\", \"eye_lmk_y_3\", \"eye_lmk_y_4\", \"eye_lmk_y_5\", \"eye_lmk_y_6\", \"eye_lmk_y_7\", \"eye_lmk_y_8\", \"eye_lmk_y_9\", \"eye_lmk_y_10\", \"eye_lmk_y_11\", \"eye_lmk_y_12\", \"eye_lmk_y_13\", \"eye_lmk_y_14\", \"eye_lmk_y_15\", \"eye_lmk_y_16\", \"eye_lmk_y_17\", \"eye_lmk_y_18\", \"eye_lmk_y_19\", \"eye_lmk_y_20\", \"eye_lmk_y_21\", \"eye_lmk_y_22\", \"eye_lmk_y_23\", \"eye_lmk_y_24\", \"eye_lmk_y_25\", \"eye_lmk_y_26\", \"eye_lmk_y_27\", \"eye_lmk_y_28\", \"eye_lmk_y_29\", \"eye_lmk_y_30\", \"eye_lmk_y_31\", \"eye_lmk_y_32\", \"eye_lmk_y_33\", \"eye_lmk_y_34\", \"eye_lmk_y_35\", \"eye_lmk_y_36\", \"eye_lmk_y_37\", \"eye_lmk_y_38\", \"eye_lmk_y_39\", \"eye_lmk_y_40\", \"eye_lmk_y_41\", \"eye_lmk_y_42\", \"eye_lmk_y_43\", \"eye_lmk_y_44\", \"eye_lmk_y_45\", \"eye_lmk_y_46\", \"eye_lmk_y_47\", \"eye_lmk_y_48\", \"eye_lmk_y_49\", \"eye_lmk_y_50\", \"eye_lmk_y_51\", \"eye_lmk_y_52\", \"eye_lmk_y_53\", \"eye_lmk_y_54\", \"eye_lmk_y_55\", \"eye_lmk_X_0\", \"eye_lmk_X_1\", \"eye_lmk_X_2\", \"eye_lmk_X_3\", \"eye_lmk_X_4\", \"eye_lmk_X_5\", \"eye_lmk_X_6\", \"eye_lmk_X_7\", \"eye_lmk_X_8\", \"eye_lmk_X_9\", \"eye_lmk_X_10\", \"eye_lmk_X_11\", \"eye_lmk_X_12\", \"eye_lmk_X_13\", \"eye_lmk_X_14\", \"eye_lmk_X_15\", \"eye_lmk_X_16\", \"eye_lmk_X_17\", \"eye_lmk_X_18\", \"eye_lmk_X_19\", \"eye_lmk_X_20\", \"eye_lmk_X_21\", \"eye_lmk_X_22\", \"eye_lmk_X_23\", \"eye_lmk_X_24\", \"eye_lmk_X_25\", \"eye_lmk_X_26\", \"eye_lmk_X_27\", \"eye_lmk_X_28\", \"eye_lmk_X_29\", \"eye_lmk_X_30\", \"eye_lmk_X_31\", \"eye_lmk_X_32\", \"eye_lmk_X_33\", \"eye_lmk_X_34\", \"eye_lmk_X_35\", \"eye_lmk_X_36\", \"eye_lmk_X_37\", \"eye_lmk_X_38\", \"eye_lmk_X_39\", \"eye_lmk_X_40\", \"eye_lmk_X_41\", \"eye_lmk_X_42\", \"eye_lmk_X_43\", \"eye_lmk_X_44\", \"eye_lmk_X_45\", \"eye_lmk_X_46\", \"eye_lmk_X_47\", \"eye_lmk_X_48\", \"eye_lmk_X_49\", \"eye_lmk_X_50\", \"eye_lmk_X_51\", \"eye_lmk_X_52\", \"eye_lmk_X_53\", \"eye_lmk_X_54\", \"eye_lmk_X_55\", \"eye_lmk_Y_0\", \"eye_lmk_Y_1\", \"eye_lmk_Y_2\", \"eye_lmk_Y_3\", \"eye_lmk_Y_4\", \"eye_lmk_Y_5\", \"eye_lmk_Y_6\", \"eye_lmk_Y_7\", \"eye_lmk_Y_8\", \"eye_lmk_Y_9\", \"eye_lmk_Y_10\", \"eye_lmk_Y_11\", \"eye_lmk_Y_12\", \"eye_lmk_Y_13\", \"eye_lmk_Y_14\", \"eye_lmk_Y_15\", \"eye_lmk_Y_16\", \"eye_lmk_Y_17\", \"eye_lmk_Y_18\", \"eye_lmk_Y_19\", \"eye_lmk_Y_20\", \"eye_lmk_Y_21\", \"eye_lmk_Y_22\", \"eye_lmk_Y_23\", \"eye_lmk_Y_24\", \"eye_lmk_Y_25\", \"eye_lmk_Y_26\", \"eye_lmk_Y_27\", \"eye_lmk_Y_28\", \"eye_lmk_Y_29\", \"eye_lmk_Y_30\", \"eye_lmk_Y_31\", \"eye_lmk_Y_32\", \"eye_lmk_Y_33\", \"eye_lmk_Y_34\", \"eye_lmk_Y_35\", \"eye_lmk_Y_36\", \"eye_lmk_Y_37\", \"eye_lmk_Y_38\", \"eye_lmk_Y_39\", \"eye_lmk_Y_40\", \"eye_lmk_Y_41\", \"eye_lmk_Y_42\", \"eye_lmk_Y_43\", \"eye_lmk_Y_44\", \"eye_lmk_Y_45\", \"eye_lmk_Y_46\", \"eye_lmk_Y_47\", \"eye_lmk_Y_48\", \"eye_lmk_Y_49\", \"eye_lmk_Y_50\", \"eye_lmk_Y_51\", \"eye_lmk_Y_52\", \"eye_lmk_Y_53\", \"eye_lmk_Y_54\", \"eye_lmk_Y_55\", \"eye_lmk_Z_0\", \"eye_lmk_Z_1\", \"eye_lmk_Z_2\", \"eye_lmk_Z_3\", \"eye_lmk_Z_4\", \"eye_lmk_Z_5\", \"eye_lmk_Z_6\", \"eye_lmk_Z_7\", \"eye_lmk_Z_8\", \"eye_lmk_Z_9\", \"eye_lmk_Z_10\", \"eye_lmk_Z_11\", \"eye_lmk_Z_12\", \"eye_lmk_Z_13\", \"eye_lmk_Z_14\", \"eye_lmk_Z_15\", \"eye_lmk_Z_16\", \"eye_lmk_Z_17\", \"eye_lmk_Z_18\", \"eye_lmk_Z_19\", \"eye_lmk_Z_20\", \"eye_lmk_Z_21\", \"eye_lmk_Z_22\", \"eye_lmk_Z_23\", \"eye_lmk_Z_24\", \"eye_lmk_Z_25\", \"eye_lmk_Z_26\", \"eye_lmk_Z_27\", \"eye_lmk_Z_28\", \"eye_lmk_Z_29\", \"eye_lmk_Z_30\", \"eye_lmk_Z_31\", \"eye_lmk_Z_32\", \"eye_lmk_Z_33\", \"eye_lmk_Z_34\", \"eye_lmk_Z_35\", \"eye_lmk_Z_36\", \"eye_lmk_Z_37\", \"eye_lmk_Z_38\", \"eye_lmk_Z_39\", \"eye_lmk_Z_40\", \"eye_lmk_Z_41\", \"eye_lmk_Z_42\", \"eye_lmk_Z_43\", \"eye_lmk_Z_44\", \"eye_lmk_Z_45\", \"eye_lmk_Z_46\", \"eye_lmk_Z_47\", \"eye_lmk_Z_48\", \"eye_lmk_Z_49\", \"eye_lmk_Z_50\", \"eye_lmk_Z_51\", \"eye_lmk_Z_52\", \"eye_lmk_Z_53\", \"eye_lmk_Z_54\", \"eye_lmk_Z_55\", \"pose_Tx\", \"pose_Ty\", \"pose_Tz\", \"pose_Rx\", \"pose_Ry\", \"pose_Rz\", \"x_0\", \"x_1\", \"x_2\", \"x_3\", \"x_4\", \"x_5\", \"x_6\", \"x_7\", \"x_8\", \"x_9\", \"x_10\", \"x_11\", \"x_12\", \"x_13\", \"x_14\", \"x_15\", \"x_16\", \"x_17\", \"x_18\", \"x_19\", \"x_20\", \"x_21\", \"x_22\", \"x_23\", \"x_24\", \"x_25\", \"x_26\", \"x_27\", \"x_28\", \"x_29\", \"x_30\", \"x_31\", \"x_32\", \"x_33\", \"x_34\", \"x_35\", \"x_36\", \"x_37\", \"x_38\", \"x_39\", \"x_40\", \"x_41\", \"x_42\", \"x_43\", \"x_44\", \"x_45\", \"x_46\", \"x_47\", \"x_48\", \"x_49\", \"x_50\", \"x_51\", \"x_52\", \"x_53\", \"x_54\", \"x_55\", \"x_56\", \"x_57\", \"x_58\", \"x_59\", \"x_60\", \"x_61\", \"x_62\", \"x_63\", \"x_64\", \"x_65\", \"x_66\", \"x_67\", \"y_0\", \"y_1\", \"y_2\", \"y_3\", \"y_4\", \"y_5\", \"y_6\", \"y_7\", \"y_8\", \"y_9\", \"y_10\", \"y_11\", \"y_12\", \"y_13\", \"y_14\", \"y_15\", \"y_16\", \"y_17\", \"y_18\", \"y_19\", \"y_20\", \"y_21\", \"y_22\", \"y_23\", \"y_24\", \"y_25\", \"y_26\", \"y_27\", \"y_28\", \"y_29\", \"y_30\", \"y_31\", \"y_32\", \"y_33\", \"y_34\", \"y_35\", \"y_36\", \"y_37\", \"y_38\", \"y_39\", \"y_40\", \"y_41\", \"y_42\", \"y_43\", \"y_44\", \"y_45\", \"y_46\", \"y_47\", \"y_48\", \"y_49\", \"y_50\", \"y_51\", \"y_52\", \"y_53\", \"y_54\", \"y_55\", \"y_56\", \"y_57\", \"y_58\", \"y_59\", \"y_60\", \"y_61\", \"y_62\", \"y_63\", \"y_64\", \"y_65\", \"y_66\", \"y_67\", \"X_0\", \"X_1\", \"X_2\", \"X_3\", \"X_4\", \"X_5\", \"X_6\", \"X_7\", \"X_8\", \"X_9\", \"X_10\", \"X_11\", \"X_12\", \"X_13\", \"X_14\", \"X_15\", \"X_16\", \"X_17\", \"X_18\", \"X_19\", \"X_20\", \"X_21\", \"X_22\", \"X_23\", \"X_24\", \"X_25\", \"X_26\", \"X_27\", \"X_28\", \"X_29\", \"X_30\", \"X_31\", \"X_32\", \"X_33\", \"X_34\", \"X_35\", \"X_36\", \"X_37\", \"X_38\", \"X_39\", \"X_40\", \"X_41\", \"X_42\", \"X_43\", \"X_44\", \"X_45\", \"X_46\", \"X_47\", \"X_48\", \"X_49\", \"X_50\", \"X_51\", \"X_52\", \"X_53\", \"X_54\", \"X_55\", \"X_56\", \"X_57\", \"X_58\", \"X_59\", \"X_60\", \"X_61\", \"X_62\", \"X_63\", \"X_64\", \"X_65\", \"X_66\", \"X_67\", \"Y_0\", \"Y_1\", \"Y_2\", \"Y_3\", \"Y_4\", \"Y_5\", \"Y_6\", \"Y_7\", \"Y_8\", \"Y_9\", \"Y_10\", \"Y_11\", \"Y_12\", \"Y_13\", \"Y_14\", \"Y_15\", \"Y_16\", \"Y_17\", \"Y_18\", \"Y_19\", \"Y_20\", \"Y_21\", \"Y_22\", \"Y_23\", \"Y_24\", \"Y_25\", \"Y_26\", \"Y_27\", \"Y_28\", \"Y_29\", \"Y_30\", \"Y_31\", \"Y_32\", \"Y_33\", \"Y_34\", \"Y_35\", \"Y_36\", \"Y_37\", \"Y_38\", \"Y_39\", \"Y_40\", \"Y_41\", \"Y_42\", \"Y_43\", \"Y_44\", \"Y_45\", \"Y_46\", \"Y_47\", \"Y_48\", \"Y_49\", \"Y_50\", \"Y_51\", \"Y_52\", \"Y_53\", \"Y_54\", \"Y_55\", \"Y_56\", \"Y_57\", \"Y_58\", \"Y_59\", \"Y_60\", \"Y_61\", \"Y_62\", \"Y_63\", \"Y_64\", \"Y_65\", \"Y_66\", \"Y_67\", \"Z_0\", \"Z_1\", \"Z_2\", \"Z_3\", \"Z_4\", \"Z_5\", \"Z_6\", \"Z_7\", \"Z_8\", \"Z_9\", \"Z_10\", \"Z_11\", \"Z_12\", \"Z_13\", \"Z_14\", \"Z_15\", \"Z_16\", \"Z_17\", \"Z_18\", \"Z_19\", \"Z_20\", \"Z_21\", \"Z_22\", \"Z_23\", \"Z_24\", \"Z_25\", \"Z_26\", \"Z_27\", \"Z_28\", \"Z_29\", \"Z_30\", \"Z_31\", \"Z_32\", \"Z_33\", \"Z_34\", \"Z_35\", \"Z_36\", \"Z_37\", \"Z_38\", \"Z_39\", \"Z_40\", \"Z_41\", \"Z_42\", \"Z_43\", \"Z_44\", \"Z_45\", \"Z_46\", \"Z_47\", \"Z_48\", \"Z_49\", \"Z_50\", \"Z_51\", \"Z_52\", \"Z_53\", \"Z_54\", \"Z_55\", \"Z_56\", \"Z_57\", \"Z_58\", \"Z_59\", \"Z_60\", \"Z_61\", \"Z_62\", \"Z_63\", \"Z_64\", \"Z_65\", \"Z_66\", \"Z_67\", \"p_scale\", \"p_rx\", \"p_ry\", \"p_rz\", \"p_tx\", \"p_ty\", \"p_0\", \"p_1\", \"p_2\", \"p_3\", \"p_4\", \"p_5\", \"p_6\", \"p_7\", \"p_8\", \"p_9\", \"p_10\", \"p_11\", \"p_12\", \"p_13\", \"p_14\", \"p_15\", \"p_16\", \"p_17\", \"p_18\", \"p_19\", \"p_20\", \"p_21\", \"p_22\", \"p_23\", \"p_24\", \"p_25\", \"p_26\", \"p_27\", \"p_28\", \"p_29\", \"p_30\", \"p_31\", \"p_32\", \"p_33\", \"AU01_r\", \"AU02_r\", \"AU04_r\", \"AU05_r\", \"AU06_r\", \"AU07_r\", \"AU09_r\", \"AU10_r\", \"AU12_r\", \"AU14_r\", \"AU15_r\", \"AU17_r\", \"AU20_r\", \"AU23_r\", \"AU25_r\", \"AU26_r\", \"AU45_r\", \"AU01_c\", \"AU02_c\", \"AU04_c\", \"AU05_c\", \"AU06_c\", \"AU07_c\", \"AU09_c\", \"AU10_c\", \"AU12_c\", \"AU14_c\", \"AU15_c\", \"AU17_c\", \"AU20_c\", \"AU23_c\", \"AU25_c\", \"AU26_c\", \"AU28_c\", \"AU45_c\"]']\n(1,)\n========================================================================================================================================================================================================\nCOVAREP\n========================================================================================================================================================================================================\n[b'[\"F0\", \"VUV\", \"NAQ\", \"QOQ\", \"H1H2\", \"PSP\", \"MDQ\", \"peakSlope\", \"Rd\", \"Rd_conf\", \"creak\", \"MCEP_0\", \"MCEP_1\", \"MCEP_2\", \"MCEP_3\", \"MCEP_4\", \"MCEP_5\", \"MCEP_6\", \"MCEP_7\", \"MCEP_8\", \"MCEP_9\", \"MCEP_10\", \"MCEP_11\", \"MCEP_12\", \"MCEP_13\", \"MCEP_14\", \"MCEP_15\", \"MCEP_16\", \"MCEP_17\", \"MCEP_18\", \"MCEP_19\", \"MCEP_20\", \"MCEP_21\", \"MCEP_22\", \"MCEP_23\", \"MCEP_24\", \"HMPDM_0\", \"HMPDM_1\", \"HMPDM_2\", \"HMPDM_3\", \"HMPDM_4\", \"HMPDM_5\", \"HMPDM_6\", \"HMPDM_7\", \"HMPDM_8\", \"HMPDM_9\", \"HMPDM_10\", \"HMPDM_11\", \"HMPDM_12\", \"HMPDM_13\", \"HMPDM_14\", \"HMPDM_15\", \"HMPDM_16\", \"HMPDM_17\", \"HMPDM_18\", \"HMPDM_19\", \"HMPDM_20\", \"HMPDM_21\", \"HMPDM_22\", \"HMPDM_23\", \"HMPDM_24\", \"HMPDD_0\", \"HMPDD_1\", \"HMPDD_2\", \"HMPDD_3\", \"HMPDD_4\", \"HMPDD_5\", \"HMPDD_6\", \"HMPDD_7\", \"HMPDD_8\", \"HMPDD_9\", \"HMPDD_10\", \"HMPDD_11\", \"HMPDD_12\"]']\n(1,)\n========================================================================================================================================================================================================\nglove_vectors\n========================================================================================================================================================================================================\n[b'[\"vector\", \"vector\", \"vector\", \"vector\", \"vector\", \"vector\", \"vector\", \"vector\", \"vector\", \"vector\", \"vector\", \"vector\", \"vector\", \"vector\", \"vector\", \"vector\", \"vector\", \"vector\", \"vector\", \"vector\", \"vector\", \"vector\", \"vector\", \"vector\", \"vector\", \"vector\", \"vector\", \"vector\", \"vector\", \"vector\", \"vector\", \"vector\", \"vector\", \"vector\", \"vector\", \"vector\", \"vector\", \"vector\", \"vector\", \"vector\", \"vector\", \"vector\", \"vector\", \"vector\", \"vector\", \"vector\", \"vector\", \"vector\", \"vector\", \"vector\", \"vector\", \"vector\", \"vector\", \"vector\", \"vector\", \"vector\", \"vector\", \"vector\", \"vector\", \"vector\", \"vector\", \"vector\", \"vector\", \"vector\", \"vector\", \"vector\", \"vector\", \"vector\", \"vector\", \"vector\", \"vector\", \"vector\", \"vector\", \"vector\", \"vector\", \"vector\", \"vector\", \"vector\", \"vector\", \"vector\", \"vector\", \"vector\", \"vector\", \"vector\", \"vector\", \"vector\", \"vector\", \"vector\", \"vector\", \"vector\", \"vector\", \"vector\", \"vector\", \"vector\", \"vector\", \"vector\", \"vector\", \"vector\", \"vector\", \"vector\", \"vector\", \"vector\", \"vector\", \"vector\", \"vector\", \"vector\", \"vector\", \"vector\", \"vector\", \"vector\", \"vector\", \"vector\", \"vector\", \"vector\", \"vector\", \"vector\", \"vector\", \"vector\", \"vector\", \"vector\", \"vector\", \"vector\", \"vector\", \"vector\", \"vector\", \"vector\", \"vector\", \"vector\", \"vector\", \"vector\", \"vector\", \"vector\", \"vector\", \"vector\", \"vector\", \"vector\", \"vector\", \"vector\", \"vector\", \"vector\", \"vector\", \"vector\", \"vector\", \"vector\", \"vector\", \"vector\", \"vector\", \"vector\", \"vector\", \"vector\", \"vector\", \"vector\", \"vector\", \"vector\", \"vector\", \"vector\", \"vector\", \"vector\", \"vector\", \"vector\", \"vector\", \"vector\", \"vector\", \"vector\", \"vector\", \"vector\", \"vector\", \"vector\", \"vector\", \"vector\", \"vector\", \"vector\", \"vector\", \"vector\", \"vector\", \"vector\", \"vector\", \"vector\", \"vector\", \"vector\", \"vector\", \"vector\", \"vector\", \"vector\", \"vector\", \"vector\", \"vector\", \"vector\", \"vector\", \"vector\", \"vector\", \"vector\", \"vector\", \"vector\", \"vector\", \"vector\", \"vector\", \"vector\", \"vector\", \"vector\", \"vector\", \"vector\", \"vector\", \"vector\", \"vector\", \"vector\", \"vector\", \"vector\", \"vector\", \"vector\", \"vector\", \"vector\", \"vector\", \"vector\", \"vector\", \"vector\", \"vector\", \"vector\", \"vector\", \"vector\", \"vector\", \"vector\", \"vector\", \"vector\", \"vector\", \"vector\", \"vector\", \"vector\", \"vector\", \"vector\", \"vector\", \"vector\", \"vector\", \"vector\", \"vector\", \"vector\", \"vector\", \"vector\", \"vector\", \"vector\", \"vector\", \"vector\", \"vector\", \"vector\", \"vector\", \"vector\", \"vector\", \"vector\", \"vector\", \"vector\", \"vector\", \"vector\", \"vector\", \"vector\", \"vector\", \"vector\", \"vector\", \"vector\", \"vector\", \"vector\", \"vector\", \"vector\", \"vector\", \"vector\", \"vector\", \"vector\", \"vector\", \"vector\", \"vector\", \"vector\", \"vector\", \"vector\", \"vector\", \"vector\", \"vector\", \"vector\", \"vector\", \"vector\", \"vector\", \"vector\", \"vector\", \"vector\", \"vector\", \"vector\", \"vector\", \"vector\", \"vector\", \"vector\", \"vector\", \"vector\", \"vector\", \"vector\", \"vector\", \"vector\", \"vector\", \"vector\", \"vector\", \"vector\", \"vector\", \"vector\"]']\n(1,)\n========================================================================================================================================================================================================\nFACET 4.2\n========================================================================================================================================================================================================\n[b'[\"Anger\", \"Contempt\", \"Disgust\", \"Joy\", \"Fear\", \"Baseline\", \"Sadness\", \"Surprise\", \"Confusion\", \"Frustration\", \"AU1\", \"AU2\", \"AU4\", \"AU5\", \"AU6\", \"AU7\", \"AU9\", \"AU10\", \"AU12\", \"AU14\", \"AU15\", \"AU17\", \"AU18\", \"AU20\", \"AU23\", \"AU24\", \"AU25\", \"AU26\", \"AU28\", \"AU43\", \"Has_Glasses\", \"Is_Male\", \"Pitch\", \"Yaw\", \"Roll\"]']\n(1,)\n"
     ]
    }
   ],
   "source": [
    "for  value in files.values():\n",
    "    for dataset in value.keys():\n",
    "        print(\"=\"*200)\n",
    "        print(dataset)\n",
    "        print(\"=\"*200)\n",
    "        print(value[dataset]['metadata']['dimension names'][:])\n",
    "        print(value[dataset]['metadata']['dimension names'].shape)\n",
    "        "
   ]
  },
  {
   "cell_type": "code",
   "execution_count": 43,
   "metadata": {},
   "outputs": [
    {
     "output_type": "stream",
     "name": "stdout",
     "text": [
      "(5721, 74)\n(1715, 35)\n"
     ]
    }
   ],
   "source": [
    "keys_COVAREP = list(files['COVAREP']['COVAREP']['data'].keys())\n",
    "keys_FACET42 = list(files['VisualFacet42']['FACET 4.2']['data'].keys())\n",
    "\n",
    "\n",
    "for file_name in keys_COVAREP:\n",
    "    print(files['COVAREP']['COVAREP']['data'][file_name]['features'].shape)\n",
    "    break\n",
    "\n",
    "for file_name in keys_FACET42:\n",
    "    print(files['VisualFacet42']['FACET 4.2']['data'][file_name]['features'].shape)\n",
    "    break"
   ]
  },
  {
   "source": [
    "## Openface Structure\n",
    "\n",
    "(frame_at_33Hz, features)\n",
    "\n",
    "\n",
    "feature_labels\n",
    "\n",
    "[b'[\"face_id\", \"timestamp\", \"confidence\", \"success\", \"gaze_0_x\", \"gaze_0_y\", \"gaze_0_z\", \"gaze_1_x\", \"gaze_1_y\", \"gaze_1_z\", \"gaze_angle_x\", \"gaze_angle_y\", \"eye_lmk_x_0\", \"eye_lmk_x_1\", \"eye_lmk_x_2\", \"eye_lmk_x_3\", \"eye_lmk_x_4\", \"eye_lmk_x_5\", \"eye_lmk_x_6\", \"eye_lmk_x_7\", \"eye_lmk_x_8\", \"eye_lmk_x_9\", \"eye_lmk_x_10\", \"eye_lmk_x_11\", \"eye_lmk_x_12\", \"eye_lmk_x_13\", \"eye_lmk_x_14\", \"eye_lmk_x_15\", \"eye_lmk_x_16\", \"eye_lmk_x_17\", \"eye_lmk_x_18\", \"eye_lmk_x_19\", \"eye_lmk_x_20\", \"eye_lmk_x_21\", \"eye_lmk_x_22\", \"eye_lmk_x_23\", \"eye_lmk_x_24\", \"eye_lmk_x_25\", \"eye_lmk_x_26\", \"eye_lmk_x_27\", \"eye_lmk_x_28\", \"eye_lmk_x_29\", \"eye_lmk_x_30\", \"eye_lmk_x_31\", \"eye_lmk_x_32\", \"eye_lmk_x_33\", \"eye_lmk_x_34\", \"eye_lmk_x_35\", \"eye_lmk_x_36\", \"eye_lmk_x_37\", \"eye_lmk_x_38\", \"eye_lmk_x_39\", \"eye_lmk_x_40\", \"eye_lmk_x_41\", \"eye_lmk_x_42\", \"eye_lmk_x_43\", \"eye_lmk_x_44\", \"eye_lmk_x_45\", \"eye_lmk_x_46\", \"eye_lmk_x_47\", \"eye_lmk_x_48\", \"eye_lmk_x_49\", \"eye_lmk_x_50\", \"eye_lmk_x_51\", \"eye_lmk_x_52\", \"eye_lmk_x_53\", \"eye_lmk_x_54\", \"eye_lmk_x_55\", \"eye_lmk_y_0\", \"eye_lmk_y_1\", \"eye_lmk_y_2\", \"eye_lmk_y_3\", \"eye_lmk_y_4\", \"eye_lmk_y_5\", \"eye_lmk_y_6\", \"eye_lmk_y_7\", \"eye_lmk_y_8\", \"eye_lmk_y_9\", \"eye_lmk_y_10\", \"eye_lmk_y_11\", \"eye_lmk_y_12\", \"eye_lmk_y_13\", \"eye_lmk_y_14\", \"eye_lmk_y_15\", \"eye_lmk_y_16\", \"eye_lmk_y_17\", \"eye_lmk_y_18\", \"eye_lmk_y_19\", \"eye_lmk_y_20\", \"eye_lmk_y_21\", \"eye_lmk_y_22\", \"eye_lmk_y_23\", \"eye_lmk_y_24\", \"eye_lmk_y_25\", \"eye_lmk_y_26\", \"eye_lmk_y_27\", \"eye_lmk_y_28\", \"eye_lmk_y_29\", \"eye_lmk_y_30\", \"eye_lmk_y_31\", \"eye_lmk_y_32\", \"eye_lmk_y_33\", \"eye_lmk_y_34\", \"eye_lmk_y_35\", \"eye_lmk_y_36\", \"eye_lmk_y_37\", \"eye_lmk_y_38\", \"eye_lmk_y_39\", \"eye_lmk_y_40\", \"eye_lmk_y_41\", \"eye_lmk_y_42\", \"eye_lmk_y_43\", \"eye_lmk_y_44\", \"eye_lmk_y_45\", \"eye_lmk_y_46\", \"eye_lmk_y_47\", \"eye_lmk_y_48\", \"eye_lmk_y_49\", \"eye_lmk_y_50\", \"eye_lmk_y_51\", \"eye_lmk_y_52\", \"eye_lmk_y_53\", \"eye_lmk_y_54\", \"eye_lmk_y_55\", \"eye_lmk_X_0\", \"eye_lmk_X_1\", \"eye_lmk_X_2\", \"eye_lmk_X_3\", \"eye_lmk_X_4\", \"eye_lmk_X_5\", \"eye_lmk_X_6\", \"eye_lmk_X_7\", \"eye_lmk_X_8\", \"eye_lmk_X_9\", \"eye_lmk_X_10\", \"eye_lmk_X_11\", \"eye_lmk_X_12\", \"eye_lmk_X_13\", \"eye_lmk_X_14\", \"eye_lmk_X_15\", \"eye_lmk_X_16\", \"eye_lmk_X_17\", \"eye_lmk_X_18\", \"eye_lmk_X_19\", \"eye_lmk_X_20\", \"eye_lmk_X_21\", \"eye_lmk_X_22\", \"eye_lmk_X_23\", \"eye_lmk_X_24\", \"eye_lmk_X_25\", \"eye_lmk_X_26\", \"eye_lmk_X_27\", \"eye_lmk_X_28\", \"eye_lmk_X_29\", \"eye_lmk_X_30\", \"eye_lmk_X_31\", \"eye_lmk_X_32\", \"eye_lmk_X_33\", \"eye_lmk_X_34\", \"eye_lmk_X_35\", \"eye_lmk_X_36\", \"eye_lmk_X_37\", \"eye_lmk_X_38\", \"eye_lmk_X_39\", \"eye_lmk_X_40\", \"eye_lmk_X_41\", \"eye_lmk_X_42\", \"eye_lmk_X_43\", \"eye_lmk_X_44\", \"eye_lmk_X_45\", \"eye_lmk_X_46\", \"eye_lmk_X_47\", \"eye_lmk_X_48\", \"eye_lmk_X_49\", \"eye_lmk_X_50\", \"eye_lmk_X_51\", \"eye_lmk_X_52\", \"eye_lmk_X_53\", \"eye_lmk_X_54\", \"eye_lmk_X_55\", \"eye_lmk_Y_0\", \"eye_lmk_Y_1\", \"eye_lmk_Y_2\", \"eye_lmk_Y_3\", \"eye_lmk_Y_4\", \"eye_lmk_Y_5\", \"eye_lmk_Y_6\", \"eye_lmk_Y_7\", \"eye_lmk_Y_8\", \"eye_lmk_Y_9\", \"eye_lmk_Y_10\", \"eye_lmk_Y_11\", \"eye_lmk_Y_12\", \"eye_lmk_Y_13\", \"eye_lmk_Y_14\", \"eye_lmk_Y_15\", \"eye_lmk_Y_16\", \"eye_lmk_Y_17\", \"eye_lmk_Y_18\", \"eye_lmk_Y_19\", \"eye_lmk_Y_20\", \"eye_lmk_Y_21\", \"eye_lmk_Y_22\", \"eye_lmk_Y_23\", \"eye_lmk_Y_24\", \"eye_lmk_Y_25\", \"eye_lmk_Y_26\", \"eye_lmk_Y_27\", \"eye_lmk_Y_28\", \"eye_lmk_Y_29\", \"eye_lmk_Y_30\", \"eye_lmk_Y_31\", \"eye_lmk_Y_32\", \"eye_lmk_Y_33\", \"eye_lmk_Y_34\", \"eye_lmk_Y_35\", \"eye_lmk_Y_36\", \"eye_lmk_Y_37\", \"eye_lmk_Y_38\", \"eye_lmk_Y_39\", \"eye_lmk_Y_40\", \"eye_lmk_Y_41\", \"eye_lmk_Y_42\", \"eye_lmk_Y_43\", \"eye_lmk_Y_44\", \"eye_lmk_Y_45\", \"eye_lmk_Y_46\", \"eye_lmk_Y_47\", \"eye_lmk_Y_48\", \"eye_lmk_Y_49\", \"eye_lmk_Y_50\", \"eye_lmk_Y_51\", \"eye_lmk_Y_52\", \"eye_lmk_Y_53\", \"eye_lmk_Y_54\", \"eye_lmk_Y_55\", \"eye_lmk_Z_0\", \"eye_lmk_Z_1\", \"eye_lmk_Z_2\", \"eye_lmk_Z_3\", \"eye_lmk_Z_4\", \"eye_lmk_Z_5\", \"eye_lmk_Z_6\", \"eye_lmk_Z_7\", \"eye_lmk_Z_8\", \"eye_lmk_Z_9\", \"eye_lmk_Z_10\", \"eye_lmk_Z_11\", \"eye_lmk_Z_12\", \"eye_lmk_Z_13\", \"eye_lmk_Z_14\", \"eye_lmk_Z_15\", \"eye_lmk_Z_16\", \"eye_lmk_Z_17\", \"eye_lmk_Z_18\", \"eye_lmk_Z_19\", \"eye_lmk_Z_20\", \"eye_lmk_Z_21\", \"eye_lmk_Z_22\", \"eye_lmk_Z_23\", \"eye_lmk_Z_24\", \"eye_lmk_Z_25\", \"eye_lmk_Z_26\", \"eye_lmk_Z_27\", \"eye_lmk_Z_28\", \"eye_lmk_Z_29\", \"eye_lmk_Z_30\", \"eye_lmk_Z_31\", \"eye_lmk_Z_32\", \"eye_lmk_Z_33\", \"eye_lmk_Z_34\", \"eye_lmk_Z_35\", \"eye_lmk_Z_36\", \"eye_lmk_Z_37\", \"eye_lmk_Z_38\", \"eye_lmk_Z_39\", \"eye_lmk_Z_40\", \"eye_lmk_Z_41\", \"eye_lmk_Z_42\", \"eye_lmk_Z_43\", \"eye_lmk_Z_44\", \"eye_lmk_Z_45\", \"eye_lmk_Z_46\", \"eye_lmk_Z_47\", \"eye_lmk_Z_48\", \"eye_lmk_Z_49\", \"eye_lmk_Z_50\", \"eye_lmk_Z_51\", \"eye_lmk_Z_52\", \"eye_lmk_Z_53\", \"eye_lmk_Z_54\", \"eye_lmk_Z_55\", \"pose_Tx\", \"pose_Ty\", \"pose_Tz\", \"pose_Rx\", \"pose_Ry\", \"pose_Rz\", \"x_0\", \"x_1\", \"x_2\", \"x_3\", \"x_4\", \"x_5\", \"x_6\", \"x_7\", \"x_8\", \"x_9\", \"x_10\", \"x_11\", \"x_12\", \"x_13\", \"x_14\", \"x_15\", \"x_16\", \"x_17\", \"x_18\", \"x_19\", \"x_20\", \"x_21\", \"x_22\", \"x_23\", \"x_24\", \"x_25\", \"x_26\", \"x_27\", \"x_28\", \"x_29\", \"x_30\", \"x_31\", \"x_32\", \"x_33\", \"x_34\", \"x_35\", \"x_36\", \"x_37\", \"x_38\", \"x_39\", \"x_40\", \"x_41\", \"x_42\", \"x_43\", \"x_44\", \"x_45\", \"x_46\", \"x_47\", \"x_48\", \"x_49\", \"x_50\", \"x_51\", \"x_52\", \"x_53\", \"x_54\", \"x_55\", \"x_56\", \"x_57\", \"x_58\", \"x_59\", \"x_60\", \"x_61\", \"x_62\", \"x_63\", \"x_64\", \"x_65\", \"x_66\", \"x_67\", \"y_0\", \"y_1\", \"y_2\", \"y_3\", \"y_4\", \"y_5\", \"y_6\", \"y_7\", \"y_8\", \"y_9\", \"y_10\", \"y_11\", \"y_12\", \"y_13\", \"y_14\", \"y_15\", \"y_16\", \"y_17\", \"y_18\", \"y_19\", \"y_20\", \"y_21\", \"y_22\", \"y_23\", \"y_24\", \"y_25\", \"y_26\", \"y_27\", \"y_28\", \"y_29\", \"y_30\", \"y_31\", \"y_32\", \"y_33\", \"y_34\", \"y_35\", \"y_36\", \"y_37\", \"y_38\", \"y_39\", \"y_40\", \"y_41\", \"y_42\", \"y_43\", \"y_44\", \"y_45\", \"y_46\", \"y_47\", \"y_48\", \"y_49\", \"y_50\", \"y_51\", \"y_52\", \"y_53\", \"y_54\", \"y_55\", \"y_56\", \"y_57\", \"y_58\", \"y_59\", \"y_60\", \"y_61\", \"y_62\", \"y_63\", \"y_64\", \"y_65\", \"y_66\", \"y_67\", \"X_0\", \"X_1\", \"X_2\", \"X_3\", \"X_4\", \"X_5\", \"X_6\", \"X_7\", \"X_8\", \"X_9\", \"X_10\", \"X_11\", \"X_12\", \"X_13\", \"X_14\", \"X_15\", \"X_16\", \"X_17\", \"X_18\", \"X_19\", \"X_20\", \"X_21\", \"X_22\", \"X_23\", \"X_24\", \"X_25\", \"X_26\", \"X_27\", \"X_28\", \"X_29\", \"X_30\", \"X_31\", \"X_32\", \"X_33\", \"X_34\", \"X_35\", \"X_36\", \"X_37\", \"X_38\", \"X_39\", \"X_40\", \"X_41\", \"X_42\", \"X_43\", \"X_44\", \"X_45\", \"X_46\", \"X_47\", \"X_48\", \"X_49\", \"X_50\", \"X_51\", \"X_52\", \"X_53\", \"X_54\", \"X_55\", \"X_56\", \"X_57\", \"X_58\", \"X_59\", \"X_60\", \"X_61\", \"X_62\", \"X_63\", \"X_64\", \"X_65\", \"X_66\", \"X_67\", \"Y_0\", \"Y_1\", \"Y_2\", \"Y_3\", \"Y_4\", \"Y_5\", \"Y_6\", \"Y_7\", \"Y_8\", \"Y_9\", \"Y_10\", \"Y_11\", \"Y_12\", \"Y_13\", \"Y_14\", \"Y_15\", \"Y_16\", \"Y_17\", \"Y_18\", \"Y_19\", \"Y_20\", \"Y_21\", \"Y_22\", \"Y_23\", \"Y_24\", \"Y_25\", \"Y_26\", \"Y_27\", \"Y_28\", \"Y_29\", \"Y_30\", \"Y_31\", \"Y_32\", \"Y_33\", \"Y_34\", \"Y_35\", \"Y_36\", \"Y_37\", \"Y_38\", \"Y_39\", \"Y_40\", \"Y_41\", \"Y_42\", \"Y_43\", \"Y_44\", \"Y_45\", \"Y_46\", \"Y_47\", \"Y_48\", \"Y_49\", \"Y_50\", \"Y_51\", \"Y_52\", \"Y_53\", \"Y_54\", \"Y_55\", \"Y_56\", \"Y_57\", \"Y_58\", \"Y_59\", \"Y_60\", \"Y_61\", \"Y_62\", \"Y_63\", \"Y_64\", \"Y_65\", \"Y_66\", \"Y_67\", \"Z_0\", \"Z_1\", \"Z_2\", \"Z_3\", \"Z_4\", \"Z_5\", \"Z_6\", \"Z_7\", \"Z_8\", \"Z_9\", \"Z_10\", \"Z_11\", \"Z_12\", \"Z_13\", \"Z_14\", \"Z_15\", \"Z_16\", \"Z_17\", \"Z_18\", \"Z_19\", \"Z_20\", \"Z_21\", \"Z_22\", \"Z_23\", \"Z_24\", \"Z_25\", \"Z_26\", \"Z_27\", \"Z_28\", \"Z_29\", \"Z_30\", \"Z_31\", \"Z_32\", \"Z_33\", \"Z_34\", \"Z_35\", \"Z_36\", \"Z_37\", \"Z_38\", \"Z_39\", \"Z_40\", \"Z_41\", \"Z_42\", \"Z_43\", \"Z_44\", \"Z_45\", \"Z_46\", \"Z_47\", \"Z_48\", \"Z_49\", \"Z_50\", \"Z_51\", \"Z_52\", \"Z_53\", \"Z_54\", \"Z_55\", \"Z_56\", \"Z_57\", \"Z_58\", \"Z_59\", \"Z_60\", \"Z_61\", \"Z_62\", \"Z_63\", \"Z_64\", \"Z_65\", \"Z_66\", \"Z_67\", \"p_scale\", \"p_rx\", \"p_ry\", \"p_rz\", \"p_tx\", \"p_ty\", \"p_0\", \"p_1\", \"p_2\", \"p_3\", \"p_4\", \"p_5\", \"p_6\", \"p_7\", \"p_8\", \"p_9\", \"p_10\", \"p_11\", \"p_12\", \"p_13\", \"p_14\", \"p_15\", \"p_16\", \"p_17\", \"p_18\", \"p_19\", \"p_20\", \"p_21\", \"p_22\", \"p_23\", \"p_24\", \"p_25\", \"p_26\", \"p_27\", \"p_28\", \"p_29\", \"p_30\", \"p_31\", \"p_32\", \"p_33\", \"AU01_r\", \"AU02_r\", \"AU04_r\", \"AU05_r\", \"AU06_r\", \"AU07_r\", \"AU09_r\", \"AU10_r\", \"AU12_r\", \"AU14_r\", \"AU15_r\", \"AU17_r\", \"AU20_r\", \"AU23_r\", \"AU25_r\", \"AU26_r\", \"AU45_r\", \"AU01_c\", \"AU02_c\", \"AU04_c\", \"AU05_c\", \"AU06_c\", \"AU07_c\", \"AU09_c\", \"AU10_c\", \"AU12_c\", \"AU14_c\", \"AU15_c\", \"AU17_c\", \"AU20_c\", \"AU23_c\", \"AU25_c\", \"AU26_c\", \"AU28_c\", \"AU45_c\"]']"
   ],
   "cell_type": "markdown",
   "metadata": {}
  },
  {
   "cell_type": "code",
   "execution_count": 54,
   "metadata": {
    "tags": []
   },
   "outputs": [
    {
     "output_type": "execute_result",
     "data": {
      "text/plain": [
       "           0       1  delta\n",
       "0      0.000   0.033  0.033\n",
       "1      0.033   0.067  0.034\n",
       "2      0.067   0.100  0.033\n",
       "3      0.100   0.133  0.033\n",
       "4      0.133   0.167  0.034\n",
       "...      ...     ...    ...\n",
       "2294  76.467  76.500  0.033\n",
       "2295  76.500  76.533  0.033\n",
       "2296  76.533  76.567  0.034\n",
       "2297  76.567  76.600  0.033\n",
       "2298  76.600  76.633  0.033\n",
       "\n",
       "[2299 rows x 3 columns]"
      ],
      "text/html": "<div>\n<style scoped>\n    .dataframe tbody tr th:only-of-type {\n        vertical-align: middle;\n    }\n\n    .dataframe tbody tr th {\n        vertical-align: top;\n    }\n\n    .dataframe thead th {\n        text-align: right;\n    }\n</style>\n<table border=\"1\" class=\"dataframe\">\n  <thead>\n    <tr style=\"text-align: right;\">\n      <th></th>\n      <th>0</th>\n      <th>1</th>\n      <th>delta</th>\n    </tr>\n  </thead>\n  <tbody>\n    <tr>\n      <th>0</th>\n      <td>0.000</td>\n      <td>0.033</td>\n      <td>0.033</td>\n    </tr>\n    <tr>\n      <th>1</th>\n      <td>0.033</td>\n      <td>0.067</td>\n      <td>0.034</td>\n    </tr>\n    <tr>\n      <th>2</th>\n      <td>0.067</td>\n      <td>0.100</td>\n      <td>0.033</td>\n    </tr>\n    <tr>\n      <th>3</th>\n      <td>0.100</td>\n      <td>0.133</td>\n      <td>0.033</td>\n    </tr>\n    <tr>\n      <th>4</th>\n      <td>0.133</td>\n      <td>0.167</td>\n      <td>0.034</td>\n    </tr>\n    <tr>\n      <th>...</th>\n      <td>...</td>\n      <td>...</td>\n      <td>...</td>\n    </tr>\n    <tr>\n      <th>2294</th>\n      <td>76.467</td>\n      <td>76.500</td>\n      <td>0.033</td>\n    </tr>\n    <tr>\n      <th>2295</th>\n      <td>76.500</td>\n      <td>76.533</td>\n      <td>0.033</td>\n    </tr>\n    <tr>\n      <th>2296</th>\n      <td>76.533</td>\n      <td>76.567</td>\n      <td>0.034</td>\n    </tr>\n    <tr>\n      <th>2297</th>\n      <td>76.567</td>\n      <td>76.600</td>\n      <td>0.033</td>\n    </tr>\n    <tr>\n      <th>2298</th>\n      <td>76.600</td>\n      <td>76.633</td>\n      <td>0.033</td>\n    </tr>\n  </tbody>\n</table>\n<p>2299 rows × 3 columns</p>\n</div>"
     },
     "metadata": {},
     "execution_count": 54
    }
   ],
   "source": [
    "array = files['VisualOpenFace2']['OpenFace_2']['data']['XFGHTk_3hGg']['intervals'][:]\n",
    "df = pd.DataFrame(array)\n",
    "df[\"delta\"] = df[1] - df[0]\n",
    "df"
   ]
  },
  {
   "source": [
    "## FACET 4.2\n",
    "\n",
    "(frame_at_33Hz, features)\n",
    "\n",
    "feature_labels\n",
    "\n",
    "[b'[\"Anger\", \"Contempt\", \"Disgust\", \"Joy\", \"Fear\", \"Baseline\", \"Sadness\", \"Surprise\", \"Confusion\", \"Frustration\", \"AU1\", \"AU2\", \"AU4\", \"AU5\", \"AU6\", \"AU7\", \"AU9\", \"AU10\", \"AU12\", \"AU14\", \"AU15\", \"AU17\", \"AU18\", \"AU20\", \"AU23\", \"AU24\", \"AU25\", \"AU26\", \"AU28\", \"AU43\", \"Has_Glasses\", \"Is_Male\", \"Pitch\", \"Yaw\", \"Roll\"]']\n"
   ],
   "cell_type": "markdown",
   "metadata": {}
  },
  {
   "cell_type": "code",
   "execution_count": 62,
   "metadata": {},
   "outputs": [
    {
     "output_type": "execute_result",
     "data": {
      "text/plain": [
       "              0          1     delta\n",
       "0      0.000000   0.033333  0.033333\n",
       "1      0.033333   0.066667  0.033333\n",
       "2      0.066667   0.100000  0.033333\n",
       "3      0.100000   0.133333  0.033333\n",
       "4      0.133333   0.166667  0.033334\n",
       "...         ...        ...       ...\n",
       "2295  76.500000  76.533300  0.033300\n",
       "2296  76.533300  76.566700  0.033400\n",
       "2297  76.566700  76.600000  0.033300\n",
       "2298  76.600000  76.633300  0.033300\n",
       "2299  76.633300  76.666700  0.033400\n",
       "\n",
       "[2300 rows x 3 columns]"
      ],
      "text/html": "<div>\n<style scoped>\n    .dataframe tbody tr th:only-of-type {\n        vertical-align: middle;\n    }\n\n    .dataframe tbody tr th {\n        vertical-align: top;\n    }\n\n    .dataframe thead th {\n        text-align: right;\n    }\n</style>\n<table border=\"1\" class=\"dataframe\">\n  <thead>\n    <tr style=\"text-align: right;\">\n      <th></th>\n      <th>0</th>\n      <th>1</th>\n      <th>delta</th>\n    </tr>\n  </thead>\n  <tbody>\n    <tr>\n      <th>0</th>\n      <td>0.000000</td>\n      <td>0.033333</td>\n      <td>0.033333</td>\n    </tr>\n    <tr>\n      <th>1</th>\n      <td>0.033333</td>\n      <td>0.066667</td>\n      <td>0.033333</td>\n    </tr>\n    <tr>\n      <th>2</th>\n      <td>0.066667</td>\n      <td>0.100000</td>\n      <td>0.033333</td>\n    </tr>\n    <tr>\n      <th>3</th>\n      <td>0.100000</td>\n      <td>0.133333</td>\n      <td>0.033333</td>\n    </tr>\n    <tr>\n      <th>4</th>\n      <td>0.133333</td>\n      <td>0.166667</td>\n      <td>0.033334</td>\n    </tr>\n    <tr>\n      <th>...</th>\n      <td>...</td>\n      <td>...</td>\n      <td>...</td>\n    </tr>\n    <tr>\n      <th>2295</th>\n      <td>76.500000</td>\n      <td>76.533300</td>\n      <td>0.033300</td>\n    </tr>\n    <tr>\n      <th>2296</th>\n      <td>76.533300</td>\n      <td>76.566700</td>\n      <td>0.033400</td>\n    </tr>\n    <tr>\n      <th>2297</th>\n      <td>76.566700</td>\n      <td>76.600000</td>\n      <td>0.033300</td>\n    </tr>\n    <tr>\n      <th>2298</th>\n      <td>76.600000</td>\n      <td>76.633300</td>\n      <td>0.033300</td>\n    </tr>\n    <tr>\n      <th>2299</th>\n      <td>76.633300</td>\n      <td>76.666700</td>\n      <td>0.033400</td>\n    </tr>\n  </tbody>\n</table>\n<p>2300 rows × 3 columns</p>\n</div>"
     },
     "metadata": {},
     "execution_count": 62
    }
   ],
   "source": [
    "\n",
    "\n",
    "arrayVF = files['VisualFacet42']['FACET 4.2'][\"data\"]['XFGHTk_3hGg']['intervals'][:]\n",
    "dfVF = pd.DataFrame(arrayVF)\n",
    "dfVF[\"delta\"] = dfVF[1] - dfVF[0]\n",
    "dfVF"
   ]
  },
  {
   "source": [
    "## COVAREP\n",
    "\n",
    "(frame_at_100Hz, features)\n",
    "\n",
    "feature_labels\n",
    "\n",
    "[b'[\"F0\", \"VUV\", \"NAQ\", \"QOQ\", \"H1H2\", \"PSP\", \"MDQ\", \"peakSlope\", \"Rd\", \"Rd_conf\", \"creak\", \"MCEP_0\", \"MCEP_1\", \"MCEP_2\", \"MCEP_3\", \"MCEP_4\", \"MCEP_5\", \"MCEP_6\", \"MCEP_7\", \"MCEP_8\", \"MCEP_9\", \"MCEP_10\", \"MCEP_11\", \"MCEP_12\", \"MCEP_13\", \"MCEP_14\", \"MCEP_15\", \"MCEP_16\", \"MCEP_17\", \"MCEP_18\", \"MCEP_19\", \"MCEP_20\", \"MCEP_21\", \"MCEP_22\", \"MCEP_23\", \"MCEP_24\", \"HMPDM_0\", \"HMPDM_1\", \"HMPDM_2\", \"HMPDM_3\", \"HMPDM_4\", \"HMPDM_5\", \"HMPDM_6\", \"HMPDM_7\", \"HMPDM_8\", \"HMPDM_9\", \"HMPDM_10\", \"HMPDM_11\", \"HMPDM_12\", \"HMPDM_13\", \"HMPDM_14\", \"HMPDM_15\", \"HMPDM_16\", \"HMPDM_17\", \"HMPDM_18\", \"HMPDM_19\", \"HMPDM_20\", \"HMPDM_21\", \"HMPDM_22\", \"HMPDM_23\", \"HMPDM_24\", \"HMPDD_0\", \"HMPDD_1\", \"HMPDD_2\", \"HMPDD_3\", \"HMPDD_4\", \"HMPDD_5\", \"HMPDD_6\", \"HMPDD_7\", \"HMPDD_8\", \"HMPDD_9\", \"HMPDD_10\", \"HMPDD_11\", \"HMPDD_12\"]']"
   ],
   "cell_type": "markdown",
   "metadata": {}
  },
  {
   "cell_type": "code",
   "execution_count": 61,
   "metadata": {},
   "outputs": [
    {
     "output_type": "execute_result",
     "data": {
      "text/plain": [
       "          0      1  delta\n",
       "0      0.00   0.01   0.01\n",
       "1      0.01   0.02   0.01\n",
       "2      0.02   0.03   0.01\n",
       "3      0.03   0.04   0.01\n",
       "4      0.04   0.05   0.01\n",
       "...     ...    ...    ...\n",
       "7669  76.69  76.70   0.01\n",
       "7670  76.70  76.71   0.01\n",
       "7671  76.71  76.72   0.01\n",
       "7672  76.72  76.73   0.01\n",
       "7673  76.73  76.74   0.01\n",
       "\n",
       "[7674 rows x 3 columns]"
      ],
      "text/html": "<div>\n<style scoped>\n    .dataframe tbody tr th:only-of-type {\n        vertical-align: middle;\n    }\n\n    .dataframe tbody tr th {\n        vertical-align: top;\n    }\n\n    .dataframe thead th {\n        text-align: right;\n    }\n</style>\n<table border=\"1\" class=\"dataframe\">\n  <thead>\n    <tr style=\"text-align: right;\">\n      <th></th>\n      <th>0</th>\n      <th>1</th>\n      <th>delta</th>\n    </tr>\n  </thead>\n  <tbody>\n    <tr>\n      <th>0</th>\n      <td>0.00</td>\n      <td>0.01</td>\n      <td>0.01</td>\n    </tr>\n    <tr>\n      <th>1</th>\n      <td>0.01</td>\n      <td>0.02</td>\n      <td>0.01</td>\n    </tr>\n    <tr>\n      <th>2</th>\n      <td>0.02</td>\n      <td>0.03</td>\n      <td>0.01</td>\n    </tr>\n    <tr>\n      <th>3</th>\n      <td>0.03</td>\n      <td>0.04</td>\n      <td>0.01</td>\n    </tr>\n    <tr>\n      <th>4</th>\n      <td>0.04</td>\n      <td>0.05</td>\n      <td>0.01</td>\n    </tr>\n    <tr>\n      <th>...</th>\n      <td>...</td>\n      <td>...</td>\n      <td>...</td>\n    </tr>\n    <tr>\n      <th>7669</th>\n      <td>76.69</td>\n      <td>76.70</td>\n      <td>0.01</td>\n    </tr>\n    <tr>\n      <th>7670</th>\n      <td>76.70</td>\n      <td>76.71</td>\n      <td>0.01</td>\n    </tr>\n    <tr>\n      <th>7671</th>\n      <td>76.71</td>\n      <td>76.72</td>\n      <td>0.01</td>\n    </tr>\n    <tr>\n      <th>7672</th>\n      <td>76.72</td>\n      <td>76.73</td>\n      <td>0.01</td>\n    </tr>\n    <tr>\n      <th>7673</th>\n      <td>76.73</td>\n      <td>76.74</td>\n      <td>0.01</td>\n    </tr>\n  </tbody>\n</table>\n<p>7674 rows × 3 columns</p>\n</div>"
     },
     "metadata": {},
     "execution_count": 61
    }
   ],
   "source": [
    "arrayCV = files['COVAREP']['COVAREP'][\"data\"]['XFGHTk_3hGg']['intervals'][:]\n",
    "dfCV = pd.DataFrame(arrayCV)\n",
    "dfCV[\"delta\"] = dfCV[1] - dfCV[0]\n",
    "dfCV"
   ]
  },
  {
   "source": [
    "## Timestamped Glovectors\n",
    "\n",
    "(variable_delta_t, 300)"
   ],
   "cell_type": "markdown",
   "metadata": {}
  },
  {
   "cell_type": "code",
   "execution_count": 60,
   "metadata": {},
   "outputs": [
    {
     "output_type": "execute_result",
     "data": {
      "text/plain": [
       "             0          1     delta\n",
       "0     0.012472   0.830612  0.818141\n",
       "1     0.830612   1.060091  0.229478\n",
       "2     1.060091   1.588889  0.528798\n",
       "3     1.588889   1.618821  0.029932\n",
       "4     1.618821   1.878231  0.259410\n",
       "..         ...        ...       ...\n",
       "210  74.263719  74.333560  0.069841\n",
       "211  74.333560  74.632880  0.299320\n",
       "212  74.632880  74.972109  0.339229\n",
       "213  74.972109  75.530839  0.558730\n",
       "214  75.530839  76.708163  1.177324\n",
       "\n",
       "[215 rows x 3 columns]"
      ],
      "text/html": "<div>\n<style scoped>\n    .dataframe tbody tr th:only-of-type {\n        vertical-align: middle;\n    }\n\n    .dataframe tbody tr th {\n        vertical-align: top;\n    }\n\n    .dataframe thead th {\n        text-align: right;\n    }\n</style>\n<table border=\"1\" class=\"dataframe\">\n  <thead>\n    <tr style=\"text-align: right;\">\n      <th></th>\n      <th>0</th>\n      <th>1</th>\n      <th>delta</th>\n    </tr>\n  </thead>\n  <tbody>\n    <tr>\n      <th>0</th>\n      <td>0.012472</td>\n      <td>0.830612</td>\n      <td>0.818141</td>\n    </tr>\n    <tr>\n      <th>1</th>\n      <td>0.830612</td>\n      <td>1.060091</td>\n      <td>0.229478</td>\n    </tr>\n    <tr>\n      <th>2</th>\n      <td>1.060091</td>\n      <td>1.588889</td>\n      <td>0.528798</td>\n    </tr>\n    <tr>\n      <th>3</th>\n      <td>1.588889</td>\n      <td>1.618821</td>\n      <td>0.029932</td>\n    </tr>\n    <tr>\n      <th>4</th>\n      <td>1.618821</td>\n      <td>1.878231</td>\n      <td>0.259410</td>\n    </tr>\n    <tr>\n      <th>...</th>\n      <td>...</td>\n      <td>...</td>\n      <td>...</td>\n    </tr>\n    <tr>\n      <th>210</th>\n      <td>74.263719</td>\n      <td>74.333560</td>\n      <td>0.069841</td>\n    </tr>\n    <tr>\n      <th>211</th>\n      <td>74.333560</td>\n      <td>74.632880</td>\n      <td>0.299320</td>\n    </tr>\n    <tr>\n      <th>212</th>\n      <td>74.632880</td>\n      <td>74.972109</td>\n      <td>0.339229</td>\n    </tr>\n    <tr>\n      <th>213</th>\n      <td>74.972109</td>\n      <td>75.530839</td>\n      <td>0.558730</td>\n    </tr>\n    <tr>\n      <th>214</th>\n      <td>75.530839</td>\n      <td>76.708163</td>\n      <td>1.177324</td>\n    </tr>\n  </tbody>\n</table>\n<p>215 rows × 3 columns</p>\n</div>"
     },
     "metadata": {},
     "execution_count": 60
    }
   ],
   "source": [
    "arrayWV = files['TimestampedWordVectors']['glove_vectors'][\"data\"]['XFGHTk_3hGg']['intervals'][:]\n",
    "dfWV = pd.DataFrame(arrayWV)\n",
    "dfWV[\"delta\"] = dfWV[1] - dfWV[0]\n",
    "dfWV"
   ]
  }
 ],
 "metadata": {
  "kernelspec": {
   "display_name": "Python 3.9.1 64-bit ('CMU-MultimodalSDK': pipenv)",
   "language": "python",
   "name": "python39164bitcmumultimodalsdkpipenvd4133e6adfcf4dd981a2a94a6b0429f5"
  },
  "language_info": {
   "codemirror_mode": {
    "name": "ipython",
    "version": 3
   },
   "file_extension": ".py",
   "mimetype": "text/x-python",
   "name": "python",
   "nbconvert_exporter": "python",
   "pygments_lexer": "ipython3",
   "version": "3.9.1-final"
  }
 },
 "nbformat": 4,
 "nbformat_minor": 2
}