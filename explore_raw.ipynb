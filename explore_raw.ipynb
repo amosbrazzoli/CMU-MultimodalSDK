{
 "metadata": {
  "language_info": {
   "codemirror_mode": {
    "name": "ipython",
    "version": 3
   },
   "file_extension": ".py",
   "mimetype": "text/x-python",
   "name": "python",
   "nbconvert_exporter": "python",
   "pygments_lexer": "ipython3",
   "version": "3.9.2-final"
  },
  "orig_nbformat": 2,
  "kernelspec": {
   "name": "python39164bitcmumultimodalsdkpipenvd4133e6adfcf4dd981a2a94a6b0429f5",
   "display_name": "Python 3.9.1 64-bit ('CMU-MultimodalSDK': pipenv)",
   "language": "python"
  }
 },
 "nbformat": 4,
 "nbformat_minor": 2,
 "cells": [
  {
   "cell_type": "code",
   "execution_count": 1,
   "metadata": {},
   "outputs": [
    {
     "output_type": "execute_result",
     "data": {
      "text/plain": [
       "['CMU_MOSEI_TimestampedPhones.csd', 'CMU_MOSEI_TimestampedWords.csd']"
      ]
     },
     "metadata": {},
     "execution_count": 1
    }
   ],
   "source": [
    "from tqdm import tqdm\n",
    "import pandas as pd\n",
    "import numpy as np\n",
    "import h5py\n",
    "import os\n",
    "\n",
    "PATH = \"cmumosei_raw\"\n",
    "\n",
    "files = os.listdir(PATH)\n",
    "files"
   ]
  },
  {
   "cell_type": "code",
   "execution_count": 2,
   "metadata": {},
   "outputs": [
    {
     "output_type": "execute_result",
     "data": {
      "text/plain": [
       "{'TimestampedPhones': <HDF5 file \"CMU_MOSEI_TimestampedPhones.csd\" (mode r)>,\n",
       " 'TimestampedWords': <HDF5 file \"CMU_MOSEI_TimestampedWords.csd\" (mode r)>}"
      ]
     },
     "metadata": {},
     "execution_count": 2
    }
   ],
   "source": [
    "files = { path[10:].split(\".\")[0] : h5py.File(os.path.join(PATH, path), 'r') for path in files if path.split(\".\")[-1] == \"csd\" }\n",
    "files"
   ]
  },
  {
   "cell_type": "code",
   "execution_count": 3,
   "metadata": {},
   "outputs": [
    {
     "output_type": "execute_result",
     "data": {
      "text/plain": [
       "<KeysViewHDF5 ['alignment compatible', 'computational sequence description', 'computational sequence version', 'contact', 'creator', 'dataset bib citation', 'dataset name', 'dataset version', 'dimension names', 'featureset bib citation', 'md5', 'root name', 'uuid']>"
      ]
     },
     "metadata": {},
     "execution_count": 3
    }
   ],
   "source": [
    "files['TimestampedPhones']['phoneme']['metadata'].keys()"
   ]
  },
  {
   "cell_type": "code",
   "execution_count": 4,
   "metadata": {
    "tags": []
   },
   "outputs": [
    {
     "output_type": "execute_result",
     "data": {
      "text/plain": [
       "             0          1 phoneme     delta\n",
       "0     0.012472   0.072336   b'sp'  0.059864\n",
       "1     0.072336   0.261905  b'ay1'  0.189569\n",
       "2     0.261905   0.381633    b's'  0.119728\n",
       "3     0.381633   0.471429  b'iy1'  0.089796\n",
       "4     0.471429   0.501361   b'dh'  0.029932\n",
       "..         ...        ...     ...       ...\n",
       "509  56.224717  56.254649  b'iy1'  0.029932\n",
       "510  56.254649  56.284580   b'dh'  0.029932\n",
       "511  56.284580  56.314512  b'ah0'  0.029932\n",
       "512  56.314512  56.344444    b'm'  0.029932\n",
       "513  56.344444  57.182540   b'sp'  0.838095\n",
       "\n",
       "[514 rows x 4 columns]"
      ],
      "text/html": "<div>\n<style scoped>\n    .dataframe tbody tr th:only-of-type {\n        vertical-align: middle;\n    }\n\n    .dataframe tbody tr th {\n        vertical-align: top;\n    }\n\n    .dataframe thead th {\n        text-align: right;\n    }\n</style>\n<table border=\"1\" class=\"dataframe\">\n  <thead>\n    <tr style=\"text-align: right;\">\n      <th></th>\n      <th>0</th>\n      <th>1</th>\n      <th>phoneme</th>\n      <th>delta</th>\n    </tr>\n  </thead>\n  <tbody>\n    <tr>\n      <th>0</th>\n      <td>0.012472</td>\n      <td>0.072336</td>\n      <td>b'sp'</td>\n      <td>0.059864</td>\n    </tr>\n    <tr>\n      <th>1</th>\n      <td>0.072336</td>\n      <td>0.261905</td>\n      <td>b'ay1'</td>\n      <td>0.189569</td>\n    </tr>\n    <tr>\n      <th>2</th>\n      <td>0.261905</td>\n      <td>0.381633</td>\n      <td>b's'</td>\n      <td>0.119728</td>\n    </tr>\n    <tr>\n      <th>3</th>\n      <td>0.381633</td>\n      <td>0.471429</td>\n      <td>b'iy1'</td>\n      <td>0.089796</td>\n    </tr>\n    <tr>\n      <th>4</th>\n      <td>0.471429</td>\n      <td>0.501361</td>\n      <td>b'dh'</td>\n      <td>0.029932</td>\n    </tr>\n    <tr>\n      <th>...</th>\n      <td>...</td>\n      <td>...</td>\n      <td>...</td>\n      <td>...</td>\n    </tr>\n    <tr>\n      <th>509</th>\n      <td>56.224717</td>\n      <td>56.254649</td>\n      <td>b'iy1'</td>\n      <td>0.029932</td>\n    </tr>\n    <tr>\n      <th>510</th>\n      <td>56.254649</td>\n      <td>56.284580</td>\n      <td>b'dh'</td>\n      <td>0.029932</td>\n    </tr>\n    <tr>\n      <th>511</th>\n      <td>56.284580</td>\n      <td>56.314512</td>\n      <td>b'ah0'</td>\n      <td>0.029932</td>\n    </tr>\n    <tr>\n      <th>512</th>\n      <td>56.314512</td>\n      <td>56.344444</td>\n      <td>b'm'</td>\n      <td>0.029932</td>\n    </tr>\n    <tr>\n      <th>513</th>\n      <td>56.344444</td>\n      <td>57.182540</td>\n      <td>b'sp'</td>\n      <td>0.838095</td>\n    </tr>\n  </tbody>\n</table>\n<p>514 rows × 4 columns</p>\n</div>"
     },
     "metadata": {},
     "execution_count": 4
    }
   ],
   "source": [
    "features = files['TimestampedPhones']['phoneme']['data'][\"--qXJuDtHPw\"]['features']\n",
    "intervals = files['TimestampedPhones']['phoneme']['data'][\"--qXJuDtHPw\"]['intervals']\n",
    "features = np.reshape(features, (514))\n",
    "\n",
    "\n",
    "df = pd.DataFrame(intervals)\n",
    "df[\"phoneme\"] = pd.Series(features)\n",
    "df[\"delta\"] = df[1] -df[0]\n",
    "df"
   ]
  },
  {
   "cell_type": "code",
   "execution_count": 5,
   "metadata": {},
   "outputs": [
    {
     "output_type": "execute_result",
     "data": {
      "text/plain": [
       "<KeysViewHDF5 ['alignment compatible', 'computational sequence description', 'computational sequence version', 'contact', 'creator', 'dataset bib citation', 'dataset name', 'dataset version', 'dimension names', 'featureset bib citation', 'md5', 'root name', 'uuid']>"
      ]
     },
     "metadata": {},
     "execution_count": 5
    }
   ],
   "source": [
    "files['TimestampedWords']['words']['metadata'].keys()"
   ]
  },
  {
   "cell_type": "code",
   "execution_count": 6,
   "metadata": {},
   "outputs": [
    {
     "output_type": "execute_result",
     "data": {
      "text/plain": [
       "             0          1     words     delta\n",
       "0     0.012472   0.072336     b'sp'  0.059864\n",
       "1     0.072336   0.261905      b'i'  0.189569\n",
       "2     0.261905   0.471429    b'see'  0.209524\n",
       "3     0.471429   0.591156   b'that'  0.119728\n",
       "4     0.591156   0.780726  b'there'  0.189569\n",
       "..         ...        ...       ...       ...\n",
       "178  55.825624  55.965306     b'as'  0.139683\n",
       "179  55.965306  56.085034      b'i'  0.119728\n",
       "180  56.085034  56.254649    b'see'  0.169615\n",
       "181  56.254649  56.344444   b'them'  0.089796\n",
       "182  56.344444  57.182540     b'sp'  0.838095\n",
       "\n",
       "[183 rows x 4 columns]"
      ],
      "text/html": "<div>\n<style scoped>\n    .dataframe tbody tr th:only-of-type {\n        vertical-align: middle;\n    }\n\n    .dataframe tbody tr th {\n        vertical-align: top;\n    }\n\n    .dataframe thead th {\n        text-align: right;\n    }\n</style>\n<table border=\"1\" class=\"dataframe\">\n  <thead>\n    <tr style=\"text-align: right;\">\n      <th></th>\n      <th>0</th>\n      <th>1</th>\n      <th>words</th>\n      <th>delta</th>\n    </tr>\n  </thead>\n  <tbody>\n    <tr>\n      <th>0</th>\n      <td>0.012472</td>\n      <td>0.072336</td>\n      <td>b'sp'</td>\n      <td>0.059864</td>\n    </tr>\n    <tr>\n      <th>1</th>\n      <td>0.072336</td>\n      <td>0.261905</td>\n      <td>b'i'</td>\n      <td>0.189569</td>\n    </tr>\n    <tr>\n      <th>2</th>\n      <td>0.261905</td>\n      <td>0.471429</td>\n      <td>b'see'</td>\n      <td>0.209524</td>\n    </tr>\n    <tr>\n      <th>3</th>\n      <td>0.471429</td>\n      <td>0.591156</td>\n      <td>b'that'</td>\n      <td>0.119728</td>\n    </tr>\n    <tr>\n      <th>4</th>\n      <td>0.591156</td>\n      <td>0.780726</td>\n      <td>b'there'</td>\n      <td>0.189569</td>\n    </tr>\n    <tr>\n      <th>...</th>\n      <td>...</td>\n      <td>...</td>\n      <td>...</td>\n      <td>...</td>\n    </tr>\n    <tr>\n      <th>178</th>\n      <td>55.825624</td>\n      <td>55.965306</td>\n      <td>b'as'</td>\n      <td>0.139683</td>\n    </tr>\n    <tr>\n      <th>179</th>\n      <td>55.965306</td>\n      <td>56.085034</td>\n      <td>b'i'</td>\n      <td>0.119728</td>\n    </tr>\n    <tr>\n      <th>180</th>\n      <td>56.085034</td>\n      <td>56.254649</td>\n      <td>b'see'</td>\n      <td>0.169615</td>\n    </tr>\n    <tr>\n      <th>181</th>\n      <td>56.254649</td>\n      <td>56.344444</td>\n      <td>b'them'</td>\n      <td>0.089796</td>\n    </tr>\n    <tr>\n      <th>182</th>\n      <td>56.344444</td>\n      <td>57.182540</td>\n      <td>b'sp'</td>\n      <td>0.838095</td>\n    </tr>\n  </tbody>\n</table>\n<p>183 rows × 4 columns</p>\n</div>"
     },
     "metadata": {},
     "execution_count": 6
    }
   ],
   "source": [
    "features = files['TimestampedWords']['words']['data'][\"--qXJuDtHPw\"]['features']\n",
    "intervals = files['TimestampedWords']['words']['data'][\"--qXJuDtHPw\"]['intervals']\n",
    "features = np.reshape(features, (183))\n",
    "\n",
    "\n",
    "df = pd.DataFrame(intervals)\n",
    "df[\"words\"] = pd.Series(features)\n",
    "df[\"delta\"] = df[1] -df[0]\n",
    "df"
   ]
  },
  {
   "cell_type": "code",
   "execution_count": null,
   "metadata": {},
   "outputs": [],
   "source": []
  }
 ]
}